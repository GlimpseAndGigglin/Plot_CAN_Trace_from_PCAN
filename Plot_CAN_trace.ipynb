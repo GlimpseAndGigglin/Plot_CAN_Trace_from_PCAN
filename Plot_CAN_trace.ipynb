{
 "cells": [
  {
   "cell_type": "markdown",
   "id": "89a1d987",
   "metadata": {},
   "source": [
    "# Read and Plot CAN trace data collected via Peak Adapter\n",
    "    Name : Sanghyeok Lee\n",
    "    Created date : July 31, 2021 (Saturday) 05:41 pm\n",
    "    Updated : September 26, 2021 (Sunday) 10:47 am\n",
    "    Updated : Octoboer 09, 2021 (Saturday) 02:07 pm\n",
    "    Updated : Octoboer 24, 2021 (Sunday) 05:34 pm\n",
    "    Updated : December 30, 2021 (Thursday) 10:45 am in Jeju Island\n",
    "    \n",
    "    \n",
    "    "
   ]
  },
  {
   "cell_type": "markdown",
   "id": "4b992cda",
   "metadata": {},
   "source": [
    "## What I have to figure out..\n",
    "1. save the header and backup it\n",
    "2. save the others into a data frame\n",
    "3. multipacket data...?"
   ]
  },
  {
   "cell_type": "markdown",
   "id": "a09c54d2",
   "metadata": {},
   "source": [
    "### pandas.read_csv\n",
    "https://pandas.pydata.org/pandas-docs/stable/reference/api/pandas.read_csv.html\n",
    "\n",
    "pandas.read_csv(filepath_or_buffer, sep=NoDefault.no_default, delimiter=None, header='infer', names=NoDefault.no_default, index_col=None, usecols=None, squeeze=False, prefix=NoDefault.no_default, mangle_dupe_cols=True, dtype=None, engine=None, converters=None, true_values=None, false_values=None, skipinitialspace=False, skiprows=None, skipfooter=0, nrows=None, na_values=None, keep_default_na=True, na_filter=True, verbose=False, skip_blank_lines=True, parse_dates=False, infer_datetime_format=False, keep_date_col=False, date_parser=None, dayfirst=False, cache_dates=True, iterator=False, chunksize=None, compression='infer', thousands=None, decimal='.', lineterminator=None, quotechar='\"', quoting=0, doublequote=True, escapechar=None, comment=None, encoding=None, encoding_errors='strict', dialect=None, error_bad_lines=None, warn_bad_lines=None, on_bad_lines=None, delim_whitespace=False, low_memory=True, memory_map=False, float_precision=None, storage_options=None)[source]\n",
    "\n"
   ]
  },
  {
   "cell_type": "markdown",
   "id": "6ab1c0af",
   "metadata": {},
   "source": [
    "## Let's find a row number where data part starts"
   ]
  },
  {
   "cell_type": "code",
   "execution_count": 2,
   "id": "d974645d",
   "metadata": {
    "scrolled": false
   },
   "outputs": [
    {
     "name": "stdout",
     "output_type": "stream",
     "text": [
      "  read CAN trace file(----.trc) completed \n",
      "\n",
      " type :  <class 'pandas.core.frame.DataFrame'>\n",
      "  size : (219070, 1) \n",
      "\n",
      "<class 'pandas.core.frame.DataFrame'>\n",
      "RangeIndex: 219070 entries, 0 to 219069\n",
      "Data columns (total 1 columns):\n",
      " #   Column  Non-Null Count   Dtype \n",
      "---  ------  --------------   ----- \n",
      " 0   0       219070 non-null  object\n",
      "dtypes: object(1)\n",
      "memory usage: 1.7+ MB\n",
      "  info : \n",
      " None\n"
     ]
    }
   ],
   "source": [
    "# read the CAN trace file without any attributes \n",
    "import pandas as pd\n",
    "can_trc_file_location = '/Users/sanghyeoklee/Desktop/Sanghyeok/Study/data/100D-9B/P2021-06-30_14-59-35_659.trc'\n",
    "TRC_raw = pd.read_csv(can_trc_file_location,header=None)\n",
    "# if \"header=0\", the first row will be read as a column name\n",
    "print('  read CAN trace file(----.trc) completed \\n')\n",
    "print(' type : ',type(TRC_raw)) #dataframe\n",
    "print(f'  size : {TRC_raw.shape} \\n')\n",
    "print('  info : \\n',TRC_raw.info())"
   ]
  },
  {
   "cell_type": "code",
   "execution_count": 3,
   "id": "e9eaf461",
   "metadata": {},
   "outputs": [
    {
     "data": {
      "text/html": [
       "<div>\n",
       "<style scoped>\n",
       "    .dataframe tbody tr th:only-of-type {\n",
       "        vertical-align: middle;\n",
       "    }\n",
       "\n",
       "    .dataframe tbody tr th {\n",
       "        vertical-align: top;\n",
       "    }\n",
       "\n",
       "    .dataframe thead th {\n",
       "        text-align: right;\n",
       "    }\n",
       "</style>\n",
       "<table border=\"1\" class=\"dataframe\">\n",
       "  <thead>\n",
       "    <tr style=\"text-align: right;\">\n",
       "      <th></th>\n",
       "      <th>0</th>\n",
       "    </tr>\n",
       "  </thead>\n",
       "  <tbody>\n",
       "    <tr>\n",
       "      <th>0</th>\n",
       "      <td>;$FILEVERSION=1.3</td>\n",
       "    </tr>\n",
       "    <tr>\n",
       "      <th>1</th>\n",
       "      <td>;$STARTTIME=44377.6247184452</td>\n",
       "    </tr>\n",
       "    <tr>\n",
       "      <th>2</th>\n",
       "      <td>;</td>\n",
       "    </tr>\n",
       "    <tr>\n",
       "      <th>3</th>\n",
       "      <td>;   C:\\Users\\rl311\\AppData\\Local\\Temp\\2021-06-...</td>\n",
       "    </tr>\n",
       "    <tr>\n",
       "      <th>4</th>\n",
       "      <td>;   Start time: 6/30/2021 14:59:35.673.6</td>\n",
       "    </tr>\n",
       "    <tr>\n",
       "      <th>5</th>\n",
       "      <td>;   Generated by PCAN-Explorer v6.1.1.1798</td>\n",
       "    </tr>\n",
       "    <tr>\n",
       "      <th>6</th>\n",
       "      <td>;---------------------------------------------...</td>\n",
       "    </tr>\n",
       "    <tr>\n",
       "      <th>7</th>\n",
       "      <td>;   Bus  Name         Connection              ...</td>\n",
       "    </tr>\n",
       "    <tr>\n",
       "      <th>8</th>\n",
       "      <td>;   1    Connection1  PCANLight_USB_16@pcan_us...</td>\n",
       "    </tr>\n",
       "    <tr>\n",
       "      <th>9</th>\n",
       "      <td>;---------------------------------------------...</td>\n",
       "    </tr>\n",
       "    <tr>\n",
       "      <th>10</th>\n",
       "      <td>;   Message   Time    Bus  Type   ID    Reserved</td>\n",
       "    </tr>\n",
       "    <tr>\n",
       "      <th>11</th>\n",
       "      <td>;   Number    Offset  |    |      [hex] |   Da...</td>\n",
       "    </tr>\n",
       "    <tr>\n",
       "      <th>12</th>\n",
       "      <td>;   |         [ms]    |    |      |     |   | ...</td>\n",
       "    </tr>\n",
       "    <tr>\n",
       "      <th>13</th>\n",
       "      <td>;   |         |       |    |      |     |   | ...</td>\n",
       "    </tr>\n",
       "    <tr>\n",
       "      <th>14</th>\n",
       "      <td>;---+-- ------+------ +- --+-- ---+---- +- -+-...</td>\n",
       "    </tr>\n",
       "    <tr>\n",
       "      <th>15</th>\n",
       "      <td>1)         0.115 1  Rx    1CEBF900 -  8  ...</td>\n",
       "    </tr>\n",
       "    <tr>\n",
       "      <th>16</th>\n",
       "      <td>2)         0.413 1  Rx    1CEBF900 -  8  ...</td>\n",
       "    </tr>\n",
       "    <tr>\n",
       "      <th>17</th>\n",
       "      <td>3)         0.413 1  Rx    1CEFF900 F9 497...</td>\n",
       "    </tr>\n",
       "    <tr>\n",
       "      <th>18</th>\n",
       "      <td>4)         1.615 1  Rx    1CEC00F9 -  8  ...</td>\n",
       "    </tr>\n",
       "    <tr>\n",
       "      <th>19</th>\n",
       "      <td>5)         1.645 1  Rx    18ECF900 -  8  ...</td>\n",
       "    </tr>\n",
       "  </tbody>\n",
       "</table>\n",
       "</div>"
      ],
      "text/plain": [
       "                                                    0\n",
       "0                                   ;$FILEVERSION=1.3\n",
       "1                        ;$STARTTIME=44377.6247184452\n",
       "2                                                   ;\n",
       "3   ;   C:\\Users\\rl311\\AppData\\Local\\Temp\\2021-06-...\n",
       "4            ;   Start time: 6/30/2021 14:59:35.673.6\n",
       "5          ;   Generated by PCAN-Explorer v6.1.1.1798\n",
       "6   ;---------------------------------------------...\n",
       "7   ;   Bus  Name         Connection              ...\n",
       "8   ;   1    Connection1  PCANLight_USB_16@pcan_us...\n",
       "9   ;---------------------------------------------...\n",
       "10   ;   Message   Time    Bus  Type   ID    Reserved\n",
       "11  ;   Number    Offset  |    |      [hex] |   Da...\n",
       "12  ;   |         [ms]    |    |      |     |   | ...\n",
       "13  ;   |         |       |    |      |     |   | ...\n",
       "14  ;---+-- ------+------ +- --+-- ---+---- +- -+-...\n",
       "15       1)         0.115 1  Rx    1CEBF900 -  8  ...\n",
       "16       2)         0.413 1  Rx    1CEBF900 -  8  ...\n",
       "17       3)         0.413 1  Rx    1CEFF900 F9 497...\n",
       "18       4)         1.615 1  Rx    1CEC00F9 -  8  ...\n",
       "19       5)         1.645 1  Rx    18ECF900 -  8  ..."
      ]
     },
     "execution_count": 3,
     "metadata": {},
     "output_type": "execute_result"
    }
   ],
   "source": [
    "TRC_raw.head(n=20)"
   ]
  },
  {
   "cell_type": "code",
   "execution_count": 4,
   "id": "20f157a4",
   "metadata": {},
   "outputs": [
    {
     "data": {
      "text/html": [
       "<div>\n",
       "<style scoped>\n",
       "    .dataframe tbody tr th:only-of-type {\n",
       "        vertical-align: middle;\n",
       "    }\n",
       "\n",
       "    .dataframe tbody tr th {\n",
       "        vertical-align: top;\n",
       "    }\n",
       "\n",
       "    .dataframe thead th {\n",
       "        text-align: right;\n",
       "    }\n",
       "</style>\n",
       "<table border=\"1\" class=\"dataframe\">\n",
       "  <thead>\n",
       "    <tr style=\"text-align: right;\">\n",
       "      <th></th>\n",
       "      <th>0</th>\n",
       "    </tr>\n",
       "  </thead>\n",
       "  <tbody>\n",
       "    <tr>\n",
       "      <th>219065</th>\n",
       "      <td>219051)     99328.465 1  Rx    1CEBF900 -  8  ...</td>\n",
       "    </tr>\n",
       "    <tr>\n",
       "      <th>219066</th>\n",
       "      <td>219052)     99330.385 1  Rx    1CEBF900 -  8  ...</td>\n",
       "    </tr>\n",
       "    <tr>\n",
       "      <th>219067</th>\n",
       "      <td>219053)     99330.683 1  Rx    1CEBF900 -  8  ...</td>\n",
       "    </tr>\n",
       "    <tr>\n",
       "      <th>219068</th>\n",
       "      <td>219054)     99330.939 1  Rx    1CEBF900 -  8  ...</td>\n",
       "    </tr>\n",
       "    <tr>\n",
       "      <th>219069</th>\n",
       "      <td>219055)     99331.238 1  Rx    1CEBF900 -  8  ...</td>\n",
       "    </tr>\n",
       "  </tbody>\n",
       "</table>\n",
       "</div>"
      ],
      "text/plain": [
       "                                                        0\n",
       "219065  219051)     99328.465 1  Rx    1CEBF900 -  8  ...\n",
       "219066  219052)     99330.385 1  Rx    1CEBF900 -  8  ...\n",
       "219067  219053)     99330.683 1  Rx    1CEBF900 -  8  ...\n",
       "219068  219054)     99330.939 1  Rx    1CEBF900 -  8  ...\n",
       "219069  219055)     99331.238 1  Rx    1CEBF900 -  8  ..."
      ]
     },
     "execution_count": 4,
     "metadata": {},
     "output_type": "execute_result"
    }
   ],
   "source": [
    "TRC_raw.tail()"
   ]
  },
  {
   "cell_type": "code",
   "execution_count": 5,
   "id": "1c4ee7a8",
   "metadata": {},
   "outputs": [
    {
     "name": "stdout",
     "output_type": "stream",
     "text": [
      ";$FILEVERSION=1.3\n",
      ";$STARTTIME=44377.6247184452\n",
      "type(TRC_raw_series) : <class 'pandas.core.series.Series'>\n"
     ]
    }
   ],
   "source": [
    "## Find a row number where data part starts\n",
    "# save the column as a series\n",
    "# test\n",
    "print( TRC_raw[0][0] )\n",
    "print( TRC_raw[0][1] )\n",
    "TRC_raw_series = TRC_raw[0]\n",
    "print(f'type(TRC_raw_series) : {type(TRC_raw_series)}')"
   ]
  },
  {
   "cell_type": "code",
   "execution_count": 6,
   "id": "f7345425",
   "metadata": {
    "lines_to_next_cell": 2
   },
   "outputs": [
    {
     "name": "stdout",
     "output_type": "stream",
     "text": [
      "row_data_start :  15\n"
     ]
    }
   ],
   "source": [
    "# everylines of the header of CAN tracef file starts with \" ; \"\n",
    "len_TRC_raw_series = len(TRC_raw_series)\n",
    "row_data_start=0\n",
    "for i in range(0, len_TRC_raw_series + 1):\n",
    "    if TRC_raw_series[i].find(';') == -1:\n",
    "        row_data_start = i\n",
    "        break\n",
    "print('row_data_start : ', row_data_start)"
   ]
  },
  {
   "cell_type": "markdown",
   "id": "77457bb4",
   "metadata": {},
   "source": [
    "### Let's save the header"
   ]
  },
  {
   "cell_type": "code",
   "execution_count": 7,
   "id": "3ff79d2a",
   "metadata": {
    "scrolled": true
   },
   "outputs": [
    {
     "name": "stdout",
     "output_type": "stream",
     "text": [
      "type(TRC_header) : <class 'pandas.core.series.Series'>\n"
     ]
    },
    {
     "data": {
      "text/plain": [
       "0                                     ;$FILEVERSION=1.3\n",
       "1                          ;$STARTTIME=44377.6247184452\n",
       "2                                                     ;\n",
       "3     ;   C:\\Users\\rl311\\AppData\\Local\\Temp\\2021-06-...\n",
       "4              ;   Start time: 6/30/2021 14:59:35.673.6\n",
       "5            ;   Generated by PCAN-Explorer v6.1.1.1798\n",
       "6     ;---------------------------------------------...\n",
       "7     ;   Bus  Name         Connection              ...\n",
       "8     ;   1    Connection1  PCANLight_USB_16@pcan_us...\n",
       "9     ;---------------------------------------------...\n",
       "10     ;   Message   Time    Bus  Type   ID    Reserved\n",
       "11    ;   Number    Offset  |    |      [hex] |   Da...\n",
       "12    ;   |         [ms]    |    |      |     |   | ...\n",
       "13    ;   |         |       |    |      |     |   | ...\n",
       "14    ;---+-- ------+------ +- --+-- ---+---- +- -+-...\n",
       "Name: 0, dtype: object"
      ]
     },
     "execution_count": 7,
     "metadata": {},
     "output_type": "execute_result"
    }
   ],
   "source": [
    "# save the header part of entire raw data as a series\n",
    "TRC_header = TRC_raw[0][0:row_data_start]\n",
    "print(f'type(TRC_header) : {type(TRC_header)}')\n",
    "TRC_header"
   ]
  },
  {
   "cell_type": "markdown",
   "id": "cc6ae057",
   "metadata": {},
   "source": [
    "### Let's extract a vector of column names from the header\n",
    "Row 10~12 is column name of the data\n",
    "\n",
    ";-------------------------------------------------------------------------------\n",
    ";   Message   Time    Bus  Type   ID    Reserved\n",
    ";   Number    Offset  |    |      [hex] |   Data Length Code\n",
    ";   |         [ms]    |    |      |     |   |    Data [hex] ...\n",
    ";   |         |       |    |      |     |   |    |\n",
    ";---+-- ------+------ +- --+-- ---+---- +- -+-- -+ -- -- -- -- -- -- --"
   ]
  },
  {
   "cell_type": "code",
   "execution_count": 8,
   "id": "130a523e",
   "metadata": {
    "lines_to_next_cell": 2
   },
   "outputs": [
    {
     "name": "stdout",
     "output_type": "stream",
     "text": [
      "type(a) : <class 'str'>\n",
      "a.split() : [';', 'Message', 'Time', 'Bus', 'Type', 'ID', 'Reserved']\n",
      "type(a_split) : <class 'list'>\n",
      "- - - - - - - - - - - - - - - - - - - - \n"
     ]
    }
   ],
   "source": [
    "# test\n",
    "a=TRC_header[10]\n",
    "print(f'type(a) : {type(a)}')\n",
    "a_split = a.split()\n",
    "print(f'a.split() : {a.split()}')\n",
    "print(f'type(a_split) : {type(a_split)}')\n",
    "print('- '*20)\n",
    "\n",
    "\n"
   ]
  },
  {
   "cell_type": "code",
   "execution_count": 9,
   "id": "3254ac76",
   "metadata": {
    "lines_to_next_cell": 2,
    "scrolled": true
   },
   "outputs": [
    {
     "name": "stdout",
     "output_type": "stream",
     "text": [
      "----- Split Result\n",
      "['Message', 'Time', 'Bus', 'Type', 'ID', 'Reserved']\n",
      "['Number', 'Offset', '[hex]', 'Data', 'Length', 'Code']\n",
      "['[ms]', 'Data', '[hex]', '...']\n",
      "- - - - - - - - - - - - - - - - - - - - \n",
      "type : <class 'list'>\n",
      "shape : 3\n",
      "- - - - - - - - - - - - - - - - - - - - \n",
      "----- Manually Combine Words for Column Name - Result\n",
      "Column_Name : ['Message Number', 'Time Offset', 'Bus', 'Type', 'ID', 'Reserved', 'Data Length Code', 'Data']\n"
     ]
    }
   ],
   "source": [
    "# Let's start now!\n",
    "# I am going to use a nested list (a list of a list)\n",
    "column_name_start = 10\n",
    "column_name_end = 12\n",
    "Column_Name_split = [];\n",
    "\n",
    "for i in range(column_name_start, column_name_end+1):\n",
    "    #print(f'TRC_header[{i}].split : {TRC_header[i].split()}')\n",
    "    TRC_header[i] = TRC_header[i].replace('|','')\n",
    "    TRC_header[i] = TRC_header[i].replace(';','')\n",
    "    Column_Name_split.append(TRC_header[i].split() )\n",
    "\n",
    "print('----- Split Result')    \n",
    "for i in range(0, column_name_end-column_name_start+1):\n",
    "    print(Column_Name_split[i])\n",
    "\n",
    "print('- '*20)\n",
    "print(f'type : {type(Column_Name_split)}')\n",
    "print(f'shape : {len(Column_Name_split)}')\n",
    "print('- '*20)\n",
    "\n",
    "Column_Name=[]\n",
    "Column_Name.append(''.join( [ Column_Name_split[0][0], ' ', Column_Name_split[1][0] ]))  #Message Number\n",
    "Column_Name.append(''.join( [ Column_Name_split[0][1], ' ', Column_Name_split[1][1] ]))  # Time Offset\n",
    "Column_Name.append(Column_Name_split[0][2] ) # Bus\n",
    "Column_Name.append(Column_Name_split[0][3])  # Type\n",
    "Column_Name.append(Column_Name_split[0][4])  # ID\n",
    "Column_Name.append(Column_Name_split[0][5])  # Reserved\n",
    "Column_Name.append(''.join ( [ Column_Name_split[1][3], ' ', Column_Name_split[1][4], ' ', Column_Name_split[1][5]]))  # Data Length Code\n",
    "Column_Name.append(Column_Name_split[2][1])\n",
    "\n",
    "print('----- Manually Combine Words for Column Name - Result')\n",
    "print(f'Column_Name : {Column_Name}')\n",
    "\n",
    "\n",
    "\n",
    "\n",
    "\n",
    "# # Let's use Numpy Array instead of nested list\n",
    "# import numpy as np\n",
    "# Column_Name=np.array(TRC_header[column_name_start].split())\n",
    "# print('Column_Name 2 (ndarray): ',Column_Name)\n",
    "# print(f'type : {type(Column_Name)}')\n",
    "# print(f'shape : {np.shape(Column_Name)}')\n",
    "# # print(f'np.shape(Column_Name)[0] : {np.shape(Column_Name)[0]}')\n",
    "# # print(f'len(TRC_header[11].split()) : {len(TRC_header[11].split())}')\n",
    "\n",
    "# for i in range(column_name_start+1, column_name_end+1):\n",
    "#     temp_list = TRC_header[i].split()\n",
    "#     if np.shape(Column_Name)[0] < len(temp_list)\n",
    "        \n",
    "#     else\n",
    "#         Column_Name  = np.append(Column_Name, )\n",
    "\n",
    "    \n",
    "\n",
    "\n",
    "# print('Column_Name 3: ',Column_Name)\n",
    "# print(f'type : {type(Column_Name)}')\n",
    "# print(f'shape : {np.shape(Column_Name)}')\n",
    "\n",
    "# print(TRC_header[10].split())\n",
    "# print(TRC_header[11].split())\n",
    "\n"
   ]
  },
  {
   "cell_type": "code",
   "execution_count": 10,
   "id": "58e333f9",
   "metadata": {},
   "outputs": [
    {
     "name": "stdout",
     "output_type": "stream",
     "text": [
      ". . . . . . . . . . . . . . \n",
      "year/month/day hour:min:sec = 2021 / 6 / 30  14 : 59 : 35\n",
      "This data was collected 2021-06-30 14:59:35\n",
      "It has been 116 days, 2:50:55.911242\n"
     ]
    }
   ],
   "source": [
    "# Save the date in the header\n",
    "# check how long it has been since the data was collected\n",
    "\n",
    "print('. . ' * 7)\n",
    "# date stamp\n",
    "import datetime\n",
    "\n",
    "row_date = 0\n",
    "for i in range(0, row_data_start):\n",
    "    if TRC_header[i].find('Start time') != -1:\n",
    "        row_date = i\n",
    "        break\n",
    "# ;   Start time: 6/30/2021 14:59:35.673.6\n",
    "# 0123456789012345678901234567890123456789\n",
    "# print(f'TRC_list[row_date][15:25] : {TRC_list[row_date][15:25]}')\n",
    "trc_date_year = int(TRC_header[row_date][21:25])\n",
    "trc_date_month = int(TRC_header[row_date][15:17])\n",
    "trc_date_day = int(TRC_header[row_date][18:20])\n",
    "trc_date_hour = int(TRC_header[row_date][26:28])\n",
    "trc_date_min = int(TRC_header[row_date][29:31])\n",
    "trc_date_sec = int(TRC_header[row_date][32:34])\n",
    "print(\n",
    "    f'year/month/day hour:min:sec = {trc_date_year} / {trc_date_month} / {trc_date_day}  {trc_date_hour} : {trc_date_min} : {trc_date_sec}')\n",
    "trc_date = datetime.datetime(trc_date_year, trc_date_month, trc_date_day, trc_date_hour, trc_date_min, trc_date_sec)\n",
    "print(f'This data was collected {trc_date}')\n",
    "print(f'It has been {trc_date.today() - trc_date}')"
   ]
  },
  {
   "cell_type": "markdown",
   "id": "8a079a40",
   "metadata": {},
   "source": [
    "## Let's read *.trc file again with  attributes\n",
    "\n",
    ";   Message   Time    Bus  Type   ID    Reserved\n",
    ";   Number    Offset  |    |      [hex] |   Data Length Code\n",
    ";   |         [ms]    |    |      |     |   |    Data [hex] ...\n",
    ";   |         |       |    |      |     |   |    |\n",
    ";---+-- ------+------ +- --+-- ---+---- +- -+-- -+ -- -- -- -- -- -- --\n",
    "     1)         0.115 1  Rx    1CEBF900 -  8    46 E7 0A 3F 8E 7B 80 00\n",
    "     2)         0.413 1  Rx    1CEBF900 -  8    47 00 1A C0 42 C7 F8 8A\n",
    "     3)         0.413 1  Rx    1CEFF900 F9 497  81 00 03 03 00 00 10 01 E8 00 00 1A E0 00 00 19 00 FF FF FE 1E 00 0B 41 97 EB 1D 00 00 00 00 21 7A 1D B0 00 00 0E 00 0E 00 00 00 19 00 00 02 FF D8 00 00 C0 00 00 05 FF A0 00 0B 05 DC 00 00 FF F8 50 00 FF 4B 49 40 FF F8 50 00 00 00 00 00 00 00 1A 90 00 00 4D BC 00 00 FF FF FF 6D 00 45 43 55 00 00 10 BD 3F D4 D1 6C 1E DE 32 00 25 80 41 97 EB 1D 00 9D E7 0A 3F 5B 61 00 00 00 1A E0 42 C7 75 5E 00 00 1A CC 00 00 19 00 FF FF FE 22 00 0B 41 97 DA 1E 00 00 00 00 21 8E 1D 4C 00 00 0E 00 0E 00 00 00 19 00 00 02 FF D8 00 00 C0 00 00 05 FF A0 00 0B 05 DC 00 00 FF F8 B0 00 FF 4C C9 40 FF F8 B0 00 00 00 00 00 00 00 1A 90 00 00 4D BF 00 00 FF FF FF 75 00 45 4B 31 00 00 10 C7 3F D4 F2 CD 1E DE 32 00 25 80 41 97 DA 1E 00 9D E7 0A 3F 8E 7B 80 00 00 1A C0 42 C7 F8 8A 00 00 1A C3 00 00 19 00 FF FF FE 3A 00 0B 41 99 39 4F 00 00 00 00 22 18 1D 4C 00 00 0E 00 0E 00 00 00 19 00 00 02 FF D8 00 00 C0 00 00 05 FF A0 00 0B 05 DC 00 00 FF FA F0 00 FF 55 C8 C0 FF FA F0 00 00 00 00 00 00 00 1A 90 00 00 4D BF 00 00 FF FF FF 9F 00 45 B5 30 00 00 11 0C 3F D4 AF 20 1E DE 32 00 25 80 41 99 39 4F 00 9D E7 0A 3F 01 F1 00 00 00 1A C0 42 C6 C2 7E 00 00 1A C8 00 00 19 00 FF FF FE 3C 00 0B 41 99 4F 32 00 00 00 00 22 20 1D B0 00 00 0E 00 0E 00 00 00 19 00 00 02 FF D8 00 00 C0 00 00 05 FF A0 00 0B 05 DC 00 00 FF FB 20 00 FF 56 88 C0 FF FB 20 00 00 00 00 00 00 00 1A 90 00 00 4D BC 00 00 FF FF FF A3 00 45 B7 45 00 00 11 10 3F D4 A0 8F 1E D6 32 00 25 80 41 99 4F 32 00 9D E7 0A 3F 8E 7B 80 00 00 1A C0 42 C7 F8 8A\n",
    "     4)         1.615 1  Rx    1CEC00F9 -  8    13 F1 01 47 FF 00 EF 00\n",
    "     5)         1.645 1  Rx    18ECF900 -  8    11 02 01 FF FF 00 EF 00\n",
    "     6)         1.675 1  Rx    18FEF100 -  8    DF FF FF C0 00 00 00 C0\n",
    "     7)         1.907 1  Rx    0CF00400 -  8    40 88 90 C9 1A 00 04 90\n",
    "     8)         2.558 1  Rx    18EB00F9 -  8    01 81 00 A3 00 00 13 34\n",
    "     9)         2.573 1  Rx    18EB00F9 -  8    02 60 05 98 1C 00 02 FF"
   ]
  },
  {
   "cell_type": "code",
   "execution_count": 11,
   "id": "8fb95818",
   "metadata": {
    "scrolled": false
   },
   "outputs": [
    {
     "name": "stdout",
     "output_type": "stream",
     "text": [
      "  read CAN trace file(----.trc) completed \n",
      "\n",
      " type :  <class 'pandas.core.frame.DataFrame'>\n",
      "  size : (219055, 8) \n",
      "\n",
      "<class 'pandas.core.frame.DataFrame'>\n",
      "RangeIndex: 219055 entries, 0 to 219054\n",
      "Data columns (total 8 columns):\n",
      " #   Column            Non-Null Count   Dtype  \n",
      "---  ------            --------------   -----  \n",
      " 0   Message Number    219055 non-null  object \n",
      " 1   Time Offset       219055 non-null  float64\n",
      " 2   Bus               219055 non-null  int64  \n",
      " 3   Type              219055 non-null  object \n",
      " 4   ID                219055 non-null  object \n",
      " 5   Reserved          219055 non-null  object \n",
      " 6   Data Length Code  219055 non-null  int64  \n",
      " 7   Data              219055 non-null  object \n",
      "dtypes: float64(1), int64(2), object(5)\n",
      "memory usage: 13.4+ MB\n",
      "  info : \n",
      " None\n"
     ]
    },
    {
     "data": {
      "text/html": [
       "<div>\n",
       "<style scoped>\n",
       "    .dataframe tbody tr th:only-of-type {\n",
       "        vertical-align: middle;\n",
       "    }\n",
       "\n",
       "    .dataframe tbody tr th {\n",
       "        vertical-align: top;\n",
       "    }\n",
       "\n",
       "    .dataframe thead th {\n",
       "        text-align: right;\n",
       "    }\n",
       "</style>\n",
       "<table border=\"1\" class=\"dataframe\">\n",
       "  <thead>\n",
       "    <tr style=\"text-align: right;\">\n",
       "      <th></th>\n",
       "      <th>Message Number</th>\n",
       "      <th>Time Offset</th>\n",
       "      <th>Bus</th>\n",
       "      <th>Type</th>\n",
       "      <th>ID</th>\n",
       "      <th>Reserved</th>\n",
       "      <th>Data Length Code</th>\n",
       "      <th>Data</th>\n",
       "    </tr>\n",
       "  </thead>\n",
       "  <tbody>\n",
       "    <tr>\n",
       "      <th>0</th>\n",
       "      <td>1)</td>\n",
       "      <td>0.115</td>\n",
       "      <td>1</td>\n",
       "      <td>Rx</td>\n",
       "      <td>1CEBF900</td>\n",
       "      <td>-</td>\n",
       "      <td>8</td>\n",
       "      <td>46</td>\n",
       "    </tr>\n",
       "    <tr>\n",
       "      <th>1</th>\n",
       "      <td>2)</td>\n",
       "      <td>0.413</td>\n",
       "      <td>1</td>\n",
       "      <td>Rx</td>\n",
       "      <td>1CEBF900</td>\n",
       "      <td>-</td>\n",
       "      <td>8</td>\n",
       "      <td>47</td>\n",
       "    </tr>\n",
       "    <tr>\n",
       "      <th>2</th>\n",
       "      <td>3)</td>\n",
       "      <td>0.413</td>\n",
       "      <td>1</td>\n",
       "      <td>Rx</td>\n",
       "      <td>1CEFF900</td>\n",
       "      <td>F9</td>\n",
       "      <td>497</td>\n",
       "      <td>81</td>\n",
       "    </tr>\n",
       "    <tr>\n",
       "      <th>3</th>\n",
       "      <td>4)</td>\n",
       "      <td>1.615</td>\n",
       "      <td>1</td>\n",
       "      <td>Rx</td>\n",
       "      <td>1CEC00F9</td>\n",
       "      <td>-</td>\n",
       "      <td>8</td>\n",
       "      <td>13</td>\n",
       "    </tr>\n",
       "    <tr>\n",
       "      <th>4</th>\n",
       "      <td>5)</td>\n",
       "      <td>1.645</td>\n",
       "      <td>1</td>\n",
       "      <td>Rx</td>\n",
       "      <td>18ECF900</td>\n",
       "      <td>-</td>\n",
       "      <td>8</td>\n",
       "      <td>11</td>\n",
       "    </tr>\n",
       "    <tr>\n",
       "      <th>5</th>\n",
       "      <td>6)</td>\n",
       "      <td>1.675</td>\n",
       "      <td>1</td>\n",
       "      <td>Rx</td>\n",
       "      <td>18FEF100</td>\n",
       "      <td>-</td>\n",
       "      <td>8</td>\n",
       "      <td>DF</td>\n",
       "    </tr>\n",
       "    <tr>\n",
       "      <th>6</th>\n",
       "      <td>7)</td>\n",
       "      <td>1.907</td>\n",
       "      <td>1</td>\n",
       "      <td>Rx</td>\n",
       "      <td>0CF00400</td>\n",
       "      <td>-</td>\n",
       "      <td>8</td>\n",
       "      <td>40</td>\n",
       "    </tr>\n",
       "    <tr>\n",
       "      <th>7</th>\n",
       "      <td>8)</td>\n",
       "      <td>2.558</td>\n",
       "      <td>1</td>\n",
       "      <td>Rx</td>\n",
       "      <td>18EB00F9</td>\n",
       "      <td>-</td>\n",
       "      <td>8</td>\n",
       "      <td>01</td>\n",
       "    </tr>\n",
       "    <tr>\n",
       "      <th>8</th>\n",
       "      <td>9)</td>\n",
       "      <td>2.573</td>\n",
       "      <td>1</td>\n",
       "      <td>Rx</td>\n",
       "      <td>18EB00F9</td>\n",
       "      <td>-</td>\n",
       "      <td>8</td>\n",
       "      <td>02</td>\n",
       "    </tr>\n",
       "    <tr>\n",
       "      <th>9</th>\n",
       "      <td>10)</td>\n",
       "      <td>2.573</td>\n",
       "      <td>1</td>\n",
       "      <td>Rx</td>\n",
       "      <td>18EF00F9</td>\n",
       "      <td>00</td>\n",
       "      <td>13</td>\n",
       "      <td>81</td>\n",
       "    </tr>\n",
       "  </tbody>\n",
       "</table>\n",
       "</div>"
      ],
      "text/plain": [
       "  Message Number  Time Offset  Bus Type        ID Reserved  Data Length Code  \\\n",
       "0             1)        0.115    1   Rx  1CEBF900        -                 8   \n",
       "1             2)        0.413    1   Rx  1CEBF900        -                 8   \n",
       "2             3)        0.413    1   Rx  1CEFF900       F9               497   \n",
       "3             4)        1.615    1   Rx  1CEC00F9        -                 8   \n",
       "4             5)        1.645    1   Rx  18ECF900        -                 8   \n",
       "5             6)        1.675    1   Rx  18FEF100        -                 8   \n",
       "6             7)        1.907    1   Rx  0CF00400        -                 8   \n",
       "7             8)        2.558    1   Rx  18EB00F9        -                 8   \n",
       "8             9)        2.573    1   Rx  18EB00F9        -                 8   \n",
       "9            10)        2.573    1   Rx  18EF00F9       00                13   \n",
       "\n",
       "  Data  \n",
       "0   46  \n",
       "1   47  \n",
       "2   81  \n",
       "3   13  \n",
       "4   11  \n",
       "5   DF  \n",
       "6   40  \n",
       "7   01  \n",
       "8   02  \n",
       "9   81  "
      ]
     },
     "execution_count": 11,
     "metadata": {},
     "output_type": "execute_result"
    }
   ],
   "source": [
    "TRC_read = pd.read_csv(can_trc_file_location\n",
    "                       , sep = ' '\n",
    "                       #, delimiter = ' '\n",
    "                       , header = None\n",
    "                       , names = Column_Name\n",
    "                       , index_col = False\n",
    "                       , engine = 'python'\n",
    "                       , skipinitialspace = True\n",
    "                       , skiprows = row_data_start\n",
    "                       , na_filter = False\n",
    "                       , compression = None\n",
    "                       , error_bad_lines = False\n",
    "                       , warn_bad_lines = True \n",
    "                       #, delim_whitespace=True\n",
    "                      )\n",
    "\n",
    "# header : since this CAN trace file has multiple header rows, I extracted a column name vector from the rows.\n",
    "# index_col : \"Message Number\" column is same as index but it is expresed as 1), 2), 3).... \n",
    "#              So, I will not use it as an index\n",
    "# engine : python, not C\n",
    "# skiprows : skip the header rows to read only data part without header rows\n",
    "# na_filter : since there is no NA values in CAN trace file, I set this to False to improve performance of reading\n",
    "# compression : we are not using on-the-fly decompression\n",
    "# error_bad_lines : let's drop bad lines \n",
    "# warn_bad_lines : but have warnings for bad lines\n",
    "# delim_whitespace : the seperator of CAN trace file is space, so set this to True\n",
    "# skipinitialspacebool : Skip spaces after delimiter\n",
    "\n",
    "\n",
    "print('  read CAN trace file(----.trc) completed \\n')\n",
    "print(' type : ',type(TRC_read)) #dataframe\n",
    "print(f'  size : {TRC_read.shape} \\n')\n",
    "print('  info : \\n',TRC_read.info())\n",
    "\n",
    "TRC_read.head(n=10)\n",
    "# damn... Data bytes were not read except 1st data byte\n",
    "\n",
    "\n",
    "\n"
   ]
  },
  {
   "cell_type": "markdown",
   "id": "a4e496c2",
   "metadata": {},
   "source": [
    "### Let's save data bytes to another data frame\n",
    " - How to handle multipacket bytes? \n",
    " \n",
    "   we already saved the whole trc file as a string\n",
    "  \n",
    " "
   ]
  },
  {
   "cell_type": "code",
   "execution_count": 12,
   "id": "9d780191",
   "metadata": {
    "lines_to_next_cell": 2
   },
   "outputs": [
    {
     "data": {
      "text/plain": [
       "15         1)         0.115 1  Rx    1CEBF900 -  8  ...\n",
       "16         2)         0.413 1  Rx    1CEBF900 -  8  ...\n",
       "17         3)         0.413 1  Rx    1CEFF900 F9 497...\n",
       "18         4)         1.615 1  Rx    1CEC00F9 -  8  ...\n",
       "19         5)         1.645 1  Rx    18ECF900 -  8  ...\n",
       "Name: 0, dtype: object"
      ]
     },
     "execution_count": 12,
     "metadata": {},
     "output_type": "execute_result"
    }
   ],
   "source": [
    "TRC_raw[0][row_data_start:row_data_start+5]"
   ]
  },
  {
   "cell_type": "code",
   "execution_count": 13,
   "id": "09183d1b",
   "metadata": {
    "lines_to_next_cell": 2,
    "scrolled": true
   },
   "outputs": [
    {
     "name": "stdout",
     "output_type": "stream",
     "text": [
      "type of TRD_data_only : <class 'pandas.core.series.Series'>\n"
     ]
    },
    {
     "data": {
      "text/plain": [
       "15         1)         0.115 1  Rx    1CEBF900 -  8  ...\n",
       "16         2)         0.413 1  Rx    1CEBF900 -  8  ...\n",
       "17         3)         0.413 1  Rx    1CEFF900 F9 497...\n",
       "18         4)         1.615 1  Rx    1CEC00F9 -  8  ...\n",
       "19         5)         1.645 1  Rx    18ECF900 -  8  ...\n",
       "Name: 0, dtype: object"
      ]
     },
     "execution_count": 13,
     "metadata": {},
     "output_type": "execute_result"
    }
   ],
   "source": [
    "# Let's create a series which contains only data bytes\"\n",
    "TRC_data_only = TRC_raw[0][row_data_start:]\n",
    "print(f'type of TRD_data_only : {type(TRC_data_only)}')\n",
    "TRC_data_only.head()"
   ]
  },
  {
   "cell_type": "code",
   "execution_count": 14,
   "id": "8caa58fe",
   "metadata": {},
   "outputs": [
    {
     "name": "stdout",
     "output_type": "stream",
     "text": [
      "first row :\n",
      "     1)         0.115 1  Rx    1CEBF900 -  8    46 E7 0A 3F 8E 7B 80 00\n",
      "Length of non-data characters : 48 \n",
      "number of rows of data part : 219055\n",
      "len_TRC_raw_series : 219070\n",
      "row_data_start : 15\n"
     ]
    }
   ],
   "source": [
    "# Let's cut out non-data part\n",
    "print(f'first row :\\n{TRC_data_only.iloc[0]}')\n",
    "len_non_data = len('     1)         0.115 1  Rx    1CEBF900 -  8    ')\n",
    "print(f'Length of non-data characters : {len_non_data} ')\n",
    "\n",
    "len_data_rows = len(TRC_data_only)\n",
    "print(f'number of rows of data part : {len_data_rows}')\n",
    "print(f'len_TRC_raw_series : {len_TRC_raw_series}')\n",
    "print(f'row_data_start : {row_data_start}')\n",
    "\n",
    "#test\n",
    "# print(f'fifth row : \\n{ TRC_data_only.iloc[5] }')\n",
    "# print(f'slice the fifth row : \\n{TRC_data_only.iloc[5][len_non_data:] }')\n",
    "\n",
    "\n",
    "for i in range(0,len_data_rows+1):\n",
    "    TRC_data_only[i]= TRC_data_only.iloc[i][len_non_data:]"
   ]
  },
  {
   "cell_type": "code",
   "execution_count": 15,
   "id": "59bca151",
   "metadata": {
    "scrolled": true
   },
   "outputs": [
    {
     "data": {
      "text/html": [
       "<div>\n",
       "<style scoped>\n",
       "    .dataframe tbody tr th:only-of-type {\n",
       "        vertical-align: middle;\n",
       "    }\n",
       "\n",
       "    .dataframe tbody tr th {\n",
       "        vertical-align: top;\n",
       "    }\n",
       "\n",
       "    .dataframe thead th {\n",
       "        text-align: right;\n",
       "    }\n",
       "</style>\n",
       "<table border=\"1\" class=\"dataframe\">\n",
       "  <thead>\n",
       "    <tr style=\"text-align: right;\">\n",
       "      <th></th>\n",
       "      <th>Message Number</th>\n",
       "      <th>Time Offset</th>\n",
       "      <th>Bus</th>\n",
       "      <th>Type</th>\n",
       "      <th>ID</th>\n",
       "      <th>Reserved</th>\n",
       "      <th>Data Length Code</th>\n",
       "      <th>Data</th>\n",
       "    </tr>\n",
       "  </thead>\n",
       "  <tbody>\n",
       "    <tr>\n",
       "      <th>0</th>\n",
       "      <td>1)</td>\n",
       "      <td>0.115</td>\n",
       "      <td>1</td>\n",
       "      <td>Rx</td>\n",
       "      <td>1CEBF900</td>\n",
       "      <td>-</td>\n",
       "      <td>8</td>\n",
       "      <td>46 E7 0A 3F 8E 7B 80 00</td>\n",
       "    </tr>\n",
       "    <tr>\n",
       "      <th>1</th>\n",
       "      <td>2)</td>\n",
       "      <td>0.413</td>\n",
       "      <td>1</td>\n",
       "      <td>Rx</td>\n",
       "      <td>1CEBF900</td>\n",
       "      <td>-</td>\n",
       "      <td>8</td>\n",
       "      <td>47 00 1A C0 42 C7 F8 8A</td>\n",
       "    </tr>\n",
       "    <tr>\n",
       "      <th>2</th>\n",
       "      <td>3)</td>\n",
       "      <td>0.413</td>\n",
       "      <td>1</td>\n",
       "      <td>Rx</td>\n",
       "      <td>1CEFF900</td>\n",
       "      <td>F9</td>\n",
       "      <td>497</td>\n",
       "      <td>81 00 03 03 00 00 10 01 E8 00 00 1A E0 00 00 1...</td>\n",
       "    </tr>\n",
       "    <tr>\n",
       "      <th>3</th>\n",
       "      <td>4)</td>\n",
       "      <td>1.615</td>\n",
       "      <td>1</td>\n",
       "      <td>Rx</td>\n",
       "      <td>1CEC00F9</td>\n",
       "      <td>-</td>\n",
       "      <td>8</td>\n",
       "      <td>13 F1 01 47 FF 00 EF 00</td>\n",
       "    </tr>\n",
       "    <tr>\n",
       "      <th>4</th>\n",
       "      <td>5)</td>\n",
       "      <td>1.645</td>\n",
       "      <td>1</td>\n",
       "      <td>Rx</td>\n",
       "      <td>18ECF900</td>\n",
       "      <td>-</td>\n",
       "      <td>8</td>\n",
       "      <td>11 02 01 FF FF 00 EF 00</td>\n",
       "    </tr>\n",
       "  </tbody>\n",
       "</table>\n",
       "</div>"
      ],
      "text/plain": [
       "  Message Number  Time Offset  Bus Type        ID Reserved  Data Length Code  \\\n",
       "0             1)        0.115    1   Rx  1CEBF900        -                 8   \n",
       "1             2)        0.413    1   Rx  1CEBF900        -                 8   \n",
       "2             3)        0.413    1   Rx  1CEFF900       F9               497   \n",
       "3             4)        1.615    1   Rx  1CEC00F9        -                 8   \n",
       "4             5)        1.645    1   Rx  18ECF900        -                 8   \n",
       "\n",
       "                                                Data  \n",
       "0                            46 E7 0A 3F 8E 7B 80 00  \n",
       "1                            47 00 1A C0 42 C7 F8 8A  \n",
       "2  81 00 03 03 00 00 10 01 E8 00 00 1A E0 00 00 1...  \n",
       "3                            13 F1 01 47 FF 00 EF 00  \n",
       "4                            11 02 01 FF FF 00 EF 00  "
      ]
     },
     "execution_count": 15,
     "metadata": {},
     "output_type": "execute_result"
    }
   ],
   "source": [
    "# make sure multi packets are not missing \n",
    "TRC_data_only.head(15)\n",
    "\n",
    "# Now let's replace the \"data\" column with this series\n",
    "TRC_read['Data'] = TRC_data_only\n",
    "TRC_read.head()\n"
   ]
  },
  {
   "cell_type": "code",
   "execution_count": 16,
   "id": "9202218e",
   "metadata": {
    "scrolled": true
   },
   "outputs": [
    {
     "data": {
      "text/plain": [
       "'46 E7 0A 3F 8E 7B 80 00'"
      ]
     },
     "execution_count": 16,
     "metadata": {},
     "output_type": "execute_result"
    }
   ],
   "source": [
    "#check single packet \n",
    "TRC_read['Data'][0]"
   ]
  },
  {
   "cell_type": "code",
   "execution_count": 17,
   "id": "a3fe332f",
   "metadata": {
    "scrolled": true
   },
   "outputs": [
    {
     "data": {
      "text/plain": [
       "'81 00 03 03 00 00 10 01 E8 00 00 1A E0 00 00 19 00 FF FF FE 1E 00 0B 41 97 EB 1D 00 00 00 00 21 7A 1D B0 00 00 0E 00 0E 00 00 00 19 00 00 02 FF D8 00 00 C0 00 00 05 FF A0 00 0B 05 DC 00 00 FF F8 50 00 FF 4B 49 40 FF F8 50 00 00 00 00 00 00 00 1A 90 00 00 4D BC 00 00 FF FF FF 6D 00 45 43 55 00 00 10 BD 3F D4 D1 6C 1E DE 32 00 25 80 41 97 EB 1D 00 9D E7 0A 3F 5B 61 00 00 00 1A E0 42 C7 75 5E 00 00 1A CC 00 00 19 00 FF FF FE 22 00 0B 41 97 DA 1E 00 00 00 00 21 8E 1D 4C 00 00 0E 00 0E 00 00 00 19 00 00 02 FF D8 00 00 C0 00 00 05 FF A0 00 0B 05 DC 00 00 FF F8 B0 00 FF 4C C9 40 FF F8 B0 00 00 00 00 00 00 00 1A 90 00 00 4D BF 00 00 FF FF FF 75 00 45 4B 31 00 00 10 C7 3F D4 F2 CD 1E DE 32 00 25 80 41 97 DA 1E 00 9D E7 0A 3F 8E 7B 80 00 00 1A C0 42 C7 F8 8A 00 00 1A C3 00 00 19 00 FF FF FE 3A 00 0B 41 99 39 4F 00 00 00 00 22 18 1D 4C 00 00 0E 00 0E 00 00 00 19 00 00 02 FF D8 00 00 C0 00 00 05 FF A0 00 0B 05 DC 00 00 FF FA F0 00 FF 55 C8 C0 FF FA F0 00 00 00 00 00 00 00 1A 90 00 00 4D BF 00 00 FF FF FF 9F 00 45 B5 30 00 00 11 0C 3F D4 AF 20 1E DE 32 00 25 80 41 99 39 4F 00 9D E7 0A 3F 01 F1 00 00 00 1A C0 42 C6 C2 7E 00 00 1A C8 00 00 19 00 FF FF FE 3C 00 0B 41 99 4F 32 00 00 00 00 22 20 1D B0 00 00 0E 00 0E 00 00 00 19 00 00 02 FF D8 00 00 C0 00 00 05 FF A0 00 0B 05 DC 00 00 FF FB 20 00 FF 56 88 C0 FF FB 20 00 00 00 00 00 00 00 1A 90 00 00 4D BC 00 00 FF FF FF A3 00 45 B7 45 00 00 11 10 3F D4 A0 8F 1E D6 32 00 25 80 41 99 4F 32 00 9D E7 0A 3F 8E 7B 80 00 00 1A C0 42 C7 F8 8A'"
      ]
     },
     "execution_count": 17,
     "metadata": {},
     "output_type": "execute_result"
    }
   ],
   "source": [
    "#check double packet \n",
    "TRC_read['Data'][2]"
   ]
  },
  {
   "cell_type": "markdown",
   "id": "13c3a66f",
   "metadata": {},
   "source": [
    "### Now data pre-processing has been completed !!\n",
    "\n",
    "## Let's plot \n",
    "\n",
    "Try this first : Plot Engine Speed \n",
    "    PGN 61444, SPN 190 (SP position in PG : 4~5 , length : 2bytes, scaling : 0.125 rpm, offset : 0 rpm)\n",
    "\n",
    "Try this later :  Plot with an input of SPN ( find its PGN, start position, length, scaling, offset from J1939DA)\n",
    "\n",
    "### I need to filter the data with a given SPN"
   ]
  },
  {
   "cell_type": "code",
   "execution_count": 83,
   "id": "2b358743",
   "metadata": {},
   "outputs": [
    {
     "name": "stdout",
     "output_type": "stream",
     "text": [
      "       Message Number  Time Offset  Bus Type        ID Reserved  \\\n",
      "6                  7)        1.907    1   Rx  0CF00400        -   \n",
      "42                43)       22.519    1   Rx  0CF00400        -   \n",
      "73                74)       41.842    1   Rx  0CF00400        -   \n",
      "126              127)       62.322    1   Rx  0CF00400        -   \n",
      "169              170)       81.863    1   Rx  0CF00400        -   \n",
      "...               ...          ...  ...  ...       ...      ...   \n",
      "218856        218857)    99246.245    1   Rx  0CF00400        -   \n",
      "218897        218898)    99265.957    1   Rx  0CF00400        -   \n",
      "218956        218957)    99286.310    1   Rx  0CF00400        -   \n",
      "219008        219009)    99306.790    1   Rx  0CF00400        -   \n",
      "219041        219042)    99325.905    1   Rx  0CF00400        -   \n",
      "\n",
      "        Data Length Code                     Data  \n",
      "6                      8  40 88 90 C9 1A 00 04 90  \n",
      "42                     8  30 88 90 D0 1A 00 04 90  \n",
      "73                     8  30 88 90 C6 1A 00 04 90  \n",
      "126                    8  30 88 90 C9 1A 00 04 90  \n",
      "169                    8  30 88 90 D5 1A 00 04 90  \n",
      "...                  ...                      ...  \n",
      "218856                 8  10 84 8B 96 1A 00 04 8B  \n",
      "218897                 8  10 84 8B 95 1A 00 04 8B  \n",
      "218956                 8  20 84 8B 81 1A 00 04 8B  \n",
      "219008                 8  20 84 8B 88 1A 00 04 8B  \n",
      "219041                 8  10 84 8B 91 1A 00 04 8B  \n",
      "\n",
      "[4967 rows x 8 columns]\n"
     ]
    }
   ],
   "source": [
    "# Filtering\n",
    "import numpy as np\n",
    "\n",
    "PGN_1_dec = 61444\n",
    "PGN_1_source_address = 0\n",
    "PGN_1_source_address_hex = hex(PGN_1_source_address)[2:].upper().zfill(2)\n",
    "# print(f'PGN_1_source_address_hex : {PGN_1_source_address_hex}')\n",
    "# SPN_1 = 644\n",
    "SPN_1_start_byte = 4\n",
    "SPN_1_start_bit = 1\n",
    "SPN_1_length_bit = 16 # 2 bytes\n",
    "SPN_1_scale = 0.125\n",
    "SPN_1_offset = 0\n",
    "PGN_1_hex = hex(PGN_1_dec)[2:].upper().zfill(4) # remove \"0x\", make all the alphabets capitals \n",
    "# print(f'PGN_1_hex : {PGN_1_hex}')\n",
    "\n",
    "#test \n",
    "# print('-- test --')\n",
    "# print(TRC_read['ID'][42])  #1CEBF900\n",
    "# print(TRC_read['ID'][42][2:6]) #PGN\n",
    "# print(TRC_read['ID'][42][6:8]) #Source Address\n",
    "# print(TRC_read['ID'][42][2:6].find(PGN_1_hex) != -1)\n",
    "# print(TRC_read['ID'][42][6:8].find(PGN_1_source_address_hex) != -1)\n",
    "\n",
    "# print(type(TRC_read['ID'][0]))\n",
    "# print(len_data_rows)\n",
    "# print(str(TRC_read))\n",
    "# Create a vector for boolean indexing. I am going to filter the data with boolean indexing\n",
    "\n",
    "FilterByPGN_1 =np.zeros((len_data_rows,1),dtype=bool)\n",
    "# print(len(FilterByPGN_1))\n",
    "for i in range(1, len_data_rows):\n",
    "    FilterByPGN_1[i] = (TRC_read['ID'][i][2:6].find(PGN_1_hex) != -1 ) & (TRC_read['ID'][i][6:8].find(PGN_1_source_address_hex) != -1)\n",
    "\n",
    "\n",
    "DF_PGN_1 = TRC_read[FilterByPGN_1]\n",
    "print(str(DF_PGN_1))\n"
   ]
  }
 ],
 "metadata": {
  "jupytext": {
   "formats": "ipynb,py:light"
  },
  "kernelspec": {
   "display_name": "Python 3",
   "language": "python",
   "name": "python3"
  },
  "language_info": {
   "codemirror_mode": {
    "name": "ipython",
    "version": 3
   },
   "file_extension": ".py",
   "mimetype": "text/x-python",
   "name": "python",
   "nbconvert_exporter": "python",
   "pygments_lexer": "ipython3",
   "version": "3.8.8"
  }
 },
 "nbformat": 4,
 "nbformat_minor": 5
}
